{
  "nbformat": 4,
  "nbformat_minor": 0,
  "metadata": {
    "colab": {
      "name": "coin_address_scrapper.ipynb",
      "provenance": [],
      "collapsed_sections": [],
      "authorship_tag": "ABX9TyM1g4eJDhINZjxaPTbj22LP",
      "include_colab_link": true
    },
    "kernelspec": {
      "name": "python3",
      "display_name": "Python 3"
    },
    "language_info": {
      "name": "python"
    }
  },
  "cells": [
    {
      "cell_type": "markdown",
      "metadata": {
        "id": "view-in-github",
        "colab_type": "text"
      },
      "source": [
        "<a href=\"https://colab.research.google.com/github/lakshit2808/Newly_launched_crypto_coin_contact_address_scrapper/blob/master/coin_address_scrapper.ipynb\" target=\"_parent\"><img src=\"https://colab.research.google.com/assets/colab-badge.svg\" alt=\"Open In Colab\"/></a>"
      ]
    },
    {
      "cell_type": "code",
      "metadata": {
        "id": "CZNA3gyYzlSG"
      },
      "source": [
        "import requests \n",
        "from bs4 import BeautifulSoup\n",
        "from datetime import datetime"
      ],
      "execution_count": 6,
      "outputs": []
    },
    {
      "cell_type": "markdown",
      "metadata": {
        "id": "EYQsUw3egOcV"
      },
      "source": [
        "## IDO PreSale "
      ]
    },
    {
      "cell_type": "code",
      "metadata": {
        "id": "RRR3IPUXzuKA"
      },
      "source": [
        "def Convert(string):\n",
        "    li = list(string.split(\" \"))\n",
        "    return li\n",
        "\n",
        "def CoinContactAddress():\n",
        "  r = requests.get(\"https://idopresales.com/ido-ilo-calendar/\")\n",
        "  con = r.content\n",
        "\n",
        "  mydate = datetime.now()\n",
        "  current_month = mydate.strftime(\"%B\")\n",
        "\n",
        "  current_date = datetime.today().strftime('%d')\n",
        "  set_date = current_month + \" \" + current_date\n",
        "\n",
        "  soup = BeautifulSoup(con ,\"html.parser\" )\n",
        "  section = soup.find_all(\"div\" , {\"class\" : \"ect-clslist-event-info\"})\n",
        "  section_2 = soup.find_all(\"div\" , {\"class\" : \"ect-clslist-inner-container\"})\n",
        "  Link = []\n",
        "\n",
        "\n",
        "  for i in range(len(section)):\n",
        "    date = section[i]\n",
        "    date = date.find('span', {'class': 'cls-list-time'})\n",
        "    date = date.get_text()\n",
        "\n",
        "    month_of_release = Convert(date)[0]\n",
        "    date_of_release = Convert(date)[1]\n",
        "    given_date = month_of_release + \" \" + date_of_release\n",
        "\n",
        "    if given_date == set_date:\n",
        "      h2 = section_2[i]\n",
        "      Link.append(h2.a['href'])\n",
        "\n",
        "\n",
        "\n",
        "  r = requests.get(Link[0]) ### List can be long but we are taking the first-one only\n",
        "  con = r.content\n",
        "\n",
        "  soup = BeautifulSoup(con ,\"html.parser\" )\n",
        "  section = soup.find_all(\"p\")\n",
        "\n",
        "  contact_address = section[10].get_text()[18:]\n",
        "  return contact_address"
      ],
      "execution_count": 7,
      "outputs": []
    },
    {
      "cell_type": "code",
      "metadata": {
        "colab": {
          "base_uri": "https://localhost:8080/"
        },
        "id": "hGVRjz36z8m6",
        "outputId": "f4bc272d-7d81-47ff-db30-f160f7d1a557"
      },
      "source": [
        "print(CoinContactAddress())"
      ],
      "execution_count": 8,
      "outputs": [
        {
          "output_type": "stream",
          "text": [
            "0x8ac3517b203A01B2Ec6Ba62C17DA3AEE345F50e4\n"
          ],
          "name": "stdout"
        }
      ]
    },
    {
      "cell_type": "markdown",
      "metadata": {
        "id": "nsk49sOwgGcP"
      },
      "source": [
        "## CoinMarketCap"
      ]
    },
    {
      "cell_type": "code",
      "metadata": {
        "id": "MDpxTvp5ShVY"
      },
      "source": [
        "def BlockChain():\n",
        "  r = requests.get(\"https://coinmarketcap.com/new/\")\n",
        "  con = r.content\n",
        "  soup = BeautifulSoup(con ,\"html.parser\" )\n",
        "  section = soup.find_all(\"div\" , {\"class\" : \"s8fs2i-2 TBaWj\"})[1]\n",
        "  blockchain = section.get_text()\n",
        "  return blockchain\n",
        "\n",
        "\n",
        "def CoinLink():\n",
        "  r = requests.get(\"https://coinmarketcap.com/new/\")\n",
        "  con = r.content\n",
        "  soup = BeautifulSoup(con ,\"html.parser\" )\n",
        "  section = soup.find_all(\"p\" , {\"class\" : \"sc-1eb5slv-0 iJjGCS\"})[0]\n",
        "  coin_name = section.get_text()\n",
        "  if \" \" in coin_name:\n",
        "    coin_name = coin_name.replace(' ', '-')\n",
        "  if \".\" in coin_name:\n",
        "    coin_name = coin_name.replace('.', '-')\n",
        "  token_link = 'https://coinmarketcap.com/currencies/' + coin_name\n",
        "  if BlockChain() == 'Binance Coin':\n",
        "    return token_link\n",
        "\n",
        "\n",
        "def CoinAddress():\n",
        "  r = requests.get(CoinLink())\n",
        "  con = r.content\n",
        "  soup = BeautifulSoup(con ,\"html.parser\" )\n",
        "  section = soup.find_all(\"div\" , {\"class\" : \"mainChain___3CfU2\"})[0]\n",
        "  coin_address = section.a['href'][26:]\n",
        "  return coin_address\n",
        "\n",
        "\n"
      ],
      "execution_count": 24,
      "outputs": []
    },
    {
      "cell_type": "code",
      "metadata": {
        "colab": {
          "base_uri": "https://localhost:8080/"
        },
        "id": "tzOS43l8Shho",
        "outputId": "ec424768-73d6-47c9-e8cc-206a9014eb4a"
      },
      "source": [
        "try:\n",
        "  print(CoinAddress())\n",
        "except Exception:\n",
        "  print(\"Error\")"
      ],
      "execution_count": 25,
      "outputs": [
        {
          "output_type": "stream",
          "text": [
            "0xe540b81133c597b31c3a33e318e5bc0f3e78dfc9\n"
          ],
          "name": "stdout"
        }
      ]
    },
    {
      "cell_type": "code",
      "metadata": {
        "id": "cODHx-gthBVj"
      },
      "source": [
        ""
      ],
      "execution_count": null,
      "outputs": []
    }
  ]
}