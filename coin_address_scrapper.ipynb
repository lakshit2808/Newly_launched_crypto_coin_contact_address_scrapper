{
  "nbformat": 4,
  "nbformat_minor": 0,
  "metadata": {
    "colab": {
      "name": "coin_address_scrapper.ipynb",
      "provenance": [],
      "collapsed_sections": [],
      "authorship_tag": "ABX9TyPMYndgeLbnelUN6a4vaBZG",
      "include_colab_link": true
    },
    "kernelspec": {
      "name": "python3",
      "display_name": "Python 3"
    },
    "language_info": {
      "name": "python"
    }
  },
  "cells": [
    {
      "cell_type": "markdown",
      "metadata": {
        "id": "view-in-github",
        "colab_type": "text"
      },
      "source": [
        "<a href=\"https://colab.research.google.com/github/lakshit2808/Newly_launched_crypto_coin_contact_address_scrapper/blob/master/coin_address_scrapper.ipynb\" target=\"_parent\"><img src=\"https://colab.research.google.com/assets/colab-badge.svg\" alt=\"Open In Colab\"/></a>"
      ]
    },
    {
      "cell_type": "code",
      "metadata": {
        "id": "CZNA3gyYzlSG"
      },
      "source": [
        "import requests \n",
        "from bs4 import BeautifulSoup\n",
        "from datetime import datetime"
      ],
      "execution_count": null,
      "outputs": []
    },
    {
      "cell_type": "code",
      "metadata": {
        "id": "RRR3IPUXzuKA"
      },
      "source": [
        "def Convert(string):\n",
        "    li = list(string.split(\" \"))\n",
        "    return li\n",
        "\n",
        "def CoinContactAddress():\n",
        "  r = requests.get(\"https://idopresales.com/ido-ilo-calendar/\")\n",
        "  con = r.content\n",
        "  ##\n",
        "\n",
        "  mydate = datetime.now()\n",
        "  current_month = mydate.strftime(\"%B\")\n",
        "\n",
        "  current_date = datetime.today().strftime('%d')\n",
        "  set_date = current_month + \" \" + current_date\n",
        "\n",
        "  ##\n",
        "  soup = BeautifulSoup(con ,\"html.parser\" )\n",
        "  section = soup.find_all(\"div\" , {\"class\" : \"ect-clslist-event-info\"})\n",
        "  section_2 = soup.find_all(\"div\" , {\"class\" : \"ect-clslist-inner-container\"})\n",
        "  ##\n",
        "  Link = []\n",
        "\n",
        "\n",
        "  for i in range(len(section)):\n",
        "    date = section[i]\n",
        "    date = date.find('span', {'class': 'cls-list-time'})\n",
        "    date = date.get_text()\n",
        "\n",
        "    month_of_release = Convert(date)[0]\n",
        "    date_of_release = Convert(date)[1]\n",
        "    given_date = month_of_release + \" \" + date_of_release\n",
        "\n",
        "    if given_date == set_date:\n",
        "      h2 = section_2[i]\n",
        "      Link.append(h2.a['href'])\n",
        "\n",
        "\n",
        "\n",
        "  r = requests.get(Link[0]) ### List can be long but we are taking the first-one only\n",
        "  con = r.content\n",
        "\n",
        "  soup = BeautifulSoup(con ,\"html.parser\" )\n",
        "  section = soup.find_all(\"p\")\n",
        "\n",
        "  contact_address = section[10].get_text()[18:]\n",
        "  return contact_address"
      ],
      "execution_count": null,
      "outputs": []
    },
    {
      "cell_type": "code",
      "metadata": {
        "colab": {
          "base_uri": "https://localhost:8080/"
        },
        "id": "hGVRjz36z8m6",
        "outputId": "a7f02fe0-2a2d-4f46-df5c-d7727e1cbbb6"
      },
      "source": [
        "print(CoinContactAddress())"
      ],
      "execution_count": null,
      "outputs": [
        {
          "output_type": "stream",
          "text": [
            "0x8708899504703E42be551F4CBbf3a539068ec554\n"
          ],
          "name": "stdout"
        }
      ]
    }
  ]
}